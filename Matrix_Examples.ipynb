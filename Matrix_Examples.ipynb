{
  "cells": [
    {
      "cell_type": "markdown",
      "metadata": {
        "id": "Sw6ZmMWoQgSG"
      },
      "source": [
        "Python Project - Praxis\n",
        "Group\n",
        "Names\n",
        "\n",
        "\n",
        "Topic\n"
      ]
    },
    {
      "cell_type": "code",
      "execution_count": null,
      "metadata": {
        "colab": {
          "base_uri": "https://localhost:8080/"
        },
        "id": "Mp90JJoYRpg1",
        "outputId": "9d8044f4-087f-41f7-a9a9-8dd6d6faa8ce"
      },
      "outputs": [
        {
          "name": "stdout",
          "output_type": "stream",
          "text": [
            "Drive already mounted at /content/drive; to attempt to forcibly remount, call drive.mount(\"/content/drive\", force_remount=True).\n",
            "/content/drive/MyDrive/Colab Notebooks/matrix-ops\n"
          ]
        }
      ],
      "source": [
        "# import and stuff\n",
        "\n",
        "from google.colab import drive\n",
        "drive.mount('/content/drive')\n",
        "\n",
        "import sys\n",
        "sys.path.insert(0,'/content/drive/MyDrive/Colab Notebooks')\n",
        "\n",
        "%cd /content/drive/MyDrive/Colab\\ Notebooks/matrix-ops\n",
        "\n",
        "!git clone https://github.com/nexus-techies/matrix-ops.git"
      ]
    },
    {
      "cell_type": "code",
      "execution_count": null,
      "metadata": {
        "colab": {
          "base_uri": "https://localhost:8080/"
        },
        "id": "NE2OUhJnQrM6",
        "outputId": "57847a4e-4a3a-4a1a-c737-db3753a31a26"
      },
      "outputs": [
        {
          "name": "stdout",
          "output_type": "stream",
          "text": [
            "(2, 2)\n",
            "[[1, 0], [0, 1]]\n",
            "[[1, 0], [0, 1], [[9, 9]]]\n",
            "[[1, 1], [1, 1]]\n",
            "[[1, 0, 0, 0], [0, 1, 0, 0], [0, 0, 1, 0], [0, 0, 0, 1]]\n",
            "(2, 2)\n",
            "(2, 2)\n",
            "[[1, 2, 3, 4], [0, 0, 0, 0], [0, 0, 0, 0], [1, 2, 3, 4]]\n"
          ]
        }
      ],
      "source": [
        "import matrixops as mops"
      ]
    },
    {
      "cell_type": "code",
      "execution_count": null,
      "metadata": {
        "id": "6A89zheASF4n"
      },
      "outputs": [],
      "source": [
        "test_ip = [[1, 0], [0,1]]\n",
        "# test_ip = [[1,2,3], [4,5,6], [7,8,9]]\n",
        "\n",
        "mo = mops.matrix_ops(test_ip)"
      ]
    },
    {
      "cell_type": "code",
      "execution_count": null,
      "metadata": {
        "colab": {
          "base_uri": "https://localhost:8080/"
        },
        "id": "YjM9N6nouyZr",
        "outputId": "b6403cf5-87eb-4ded-8faf-f75d5ca94289"
      },
      "outputs": [
        {
          "name": "stdout",
          "output_type": "stream",
          "text": [
            "(2, 2)\n"
          ]
        }
      ],
      "source": [
        "# __init__\n",
        "\n",
        "print(mo.shape)"
      ]
    },
    {
      "cell_type": "code",
      "execution_count": null,
      "metadata": {
        "colab": {
          "base_uri": "https://localhost:8080/"
        },
        "id": "ahT54Kdqu-MO",
        "outputId": "c9b1fb63-b55f-4c63-d7b3-70e8efcbeef4"
      },
      "outputs": [
        {
          "name": "stdout",
          "output_type": "stream",
          "text": [
            "[[1, 0], [0, 1]]\n"
          ]
        }
      ],
      "source": [
        "# transpose\n",
        "\n",
        "print(mo.transpose(test_ip))"
      ]
    },
    {
      "cell_type": "code",
      "execution_count": null,
      "metadata": {
        "colab": {
          "base_uri": "https://localhost:8080/"
        },
        "id": "GLFxUOX-Of8l",
        "outputId": "1c0f6616-2bf9-411a-9824-1413fb653b4d"
      },
      "outputs": [
        {
          "name": "stdout",
          "output_type": "stream",
          "text": [
            "[[1, 0], [0, 1], [[9, 9]]]\n"
          ]
        }
      ],
      "source": [
        "# concatenate\n",
        "\n",
        "conca_m = [[9,9]]\n",
        "conca_o = mops.matrix_ops(conca_m)\n",
        "print(mo.concatenate(conca_o))"
      ]
    },
    {
      "cell_type": "code",
      "execution_count": 38,
      "metadata": {
        "colab": {
          "base_uri": "https://localhost:8080/"
        },
        "id": "Td-PHQYOQM2h",
        "outputId": "bcedfccf-ad13-4581-d608-e72be5297fea"
      },
      "outputs": [
        {
          "name": "stdout",
          "output_type": "stream",
          "text": [
            "[[1, 1], [1, 1]]\n",
            "[[0, 0], [0, 0]]\n",
            "[[1, 0, 0, 0], [0, 1, 0, 0], [0, 0, 1, 0], [0, 0, 0, 1]]\n"
          ]
        }
      ],
      "source": [
        "# special matrices\n",
        "\n",
        "print(mo.ones((1,3)))\n",
        "print(mo.zeros((3,4)))\n",
        "print(mo.identity(4))"
      ]
    },
    {
      "cell_type": "markdown",
      "metadata": {
        "id": "Areli1q5Q-m6"
      },
      "source": []
    },
    {
      "cell_type": "code",
      "execution_count": null,
      "metadata": {
        "id": "TX1WWWhuSQ7g"
      },
      "outputs": [],
      "source": [
        "# cartesian operations\n",
        "\n"
      ]
    }
  ],
  "metadata": {
    "colab": {
      "collapsed_sections": [],
      "name": "Matrix Examples.ipynb",
      "provenance": []
    },
    "kernelspec": {
      "display_name": "Python 3",
      "name": "python3"
    },
    "language_info": {
      "name": "python"
    }
  },
  "nbformat": 4,
  "nbformat_minor": 0
}

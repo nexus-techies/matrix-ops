{
  "nbformat": 4,
  "nbformat_minor": 0,
  "metadata": {
    "colab": {
      "name": "Matrix Examples.ipynb",
      "provenance": [],
      "collapsed_sections": []
    },
    "kernelspec": {
      "name": "python3",
      "display_name": "Python 3"
    },
    "language_info": {
      "name": "python"
    }
  },
  "cells": [
    {
      "cell_type": "markdown",
      "metadata": {
        "id": "Sw6ZmMWoQgSG"
      },
      "source": [
        "Python Project - Praxis\n",
        "Group\n",
        "Names\n",
        "\n",
        "\n",
        "Topic\n"
      ]
    },
    {
      "cell_type": "code",
      "metadata": {
        "colab": {
          "base_uri": "https://localhost:8080/"
        },
        "id": "Mp90JJoYRpg1",
        "outputId": "9d8044f4-087f-41f7-a9a9-8dd6d6faa8ce"
      },
      "source": [
        "# import and stuff\n",
        "\n",
        "from google.colab import drive\n",
        "drive.mount('/content/drive')\n",
        "\n",
        "import sys\n",
        "sys.path.insert(0,'/content/drive/MyDrive/Colab Notebooks')\n",
        "\n",
        "%cd /content/drive/MyDrive/Colab\\ Notebooks/matrix-ops\n",
        "\n",
        "!git clone https://github.com/nexus-techies/matrix-ops.git"
      ],
      "execution_count": null,
      "outputs": [
        {
          "output_type": "stream",
          "name": "stdout",
          "text": [
            "Drive already mounted at /content/drive; to attempt to forcibly remount, call drive.mount(\"/content/drive\", force_remount=True).\n",
            "/content/drive/MyDrive/Colab Notebooks/matrix-ops\n"
          ]
        }
      ]
    },
    {
      "cell_type": "code",
      "metadata": {
        "colab": {
          "base_uri": "https://localhost:8080/"
        },
        "id": "NE2OUhJnQrM6",
        "outputId": "57847a4e-4a3a-4a1a-c737-db3753a31a26"
      },
      "source": [
        "import matrixops as mops"
      ],
      "execution_count": null,
      "outputs": [
        {
          "output_type": "stream",
          "name": "stdout",
          "text": [
            "(2, 2)\n",
            "[[1, 0], [0, 1]]\n",
            "[[1, 0], [0, 1], [[9, 9]]]\n",
            "[[1, 1], [1, 1]]\n",
            "[[1, 0, 0, 0], [0, 1, 0, 0], [0, 0, 1, 0], [0, 0, 0, 1]]\n",
            "(2, 2)\n",
            "(2, 2)\n",
            "[[1, 2, 3, 4], [0, 0, 0, 0], [0, 0, 0, 0], [1, 2, 3, 4]]\n"
          ]
        }
      ]
    },
    {
      "cell_type": "code",
      "metadata": {
        "id": "6A89zheASF4n"
      },
      "source": [
        "test_ip = [[1, 0], [0,1]]\n",
        "# test_ip = [[1,2,3], [4,5,6], [7,8,9]]\n",
        "\n",
        "mo = mops.matrix_ops(test_ip)"
      ],
      "execution_count": null,
      "outputs": []
    },
    {
      "cell_type": "code",
      "metadata": {
        "colab": {
          "base_uri": "https://localhost:8080/"
        },
        "id": "YjM9N6nouyZr",
        "outputId": "b6403cf5-87eb-4ded-8faf-f75d5ca94289"
      },
      "source": [
        "# __init__\n",
        "\n",
        "print(mo.shape)"
      ],
      "execution_count": null,
      "outputs": [
        {
          "output_type": "stream",
          "name": "stdout",
          "text": [
            "(2, 2)\n"
          ]
        }
      ]
    },
    {
      "cell_type": "code",
      "metadata": {
        "id": "ahT54Kdqu-MO",
        "colab": {
          "base_uri": "https://localhost:8080/"
        },
        "outputId": "c9b1fb63-b55f-4c63-d7b3-70e8efcbeef4"
      },
      "source": [
        "# transpose\n",
        "\n",
        "print(mo.transpose(test_ip))"
      ],
      "execution_count": null,
      "outputs": [
        {
          "output_type": "stream",
          "name": "stdout",
          "text": [
            "[[1, 0], [0, 1]]\n"
          ]
        }
      ]
    },
    {
      "cell_type": "code",
      "metadata": {
        "colab": {
          "base_uri": "https://localhost:8080/"
        },
        "id": "GLFxUOX-Of8l",
        "outputId": "1c0f6616-2bf9-411a-9824-1413fb653b4d"
      },
      "source": [
        "# concatenate\n",
        "\n",
        "conca_m = [[9,9]]\n",
        "conca_o = mops.matrix_ops(conca_m)\n",
        "print(mo.concatenate(conca_o))"
      ],
      "execution_count": null,
      "outputs": [
        {
          "output_type": "stream",
          "name": "stdout",
          "text": [
            "[[1, 0], [0, 1], [[9, 9]]]\n"
          ]
        }
      ]
    },
    {
      "cell_type": "code",
      "metadata": {
        "colab": {
          "base_uri": "https://localhost:8080/"
        },
        "id": "Td-PHQYOQM2h",
        "outputId": "bcedfccf-ad13-4581-d608-e72be5297fea"
      },
      "source": [
        "# special matrices\n",
        "\n",
        "print(mo.ones((1,3)))\n",
        "print(mo.zeros((3,4)))\n",
        "print(mo.identity(4))"
      ],
      "execution_count": 38,
      "outputs": [
        {
          "output_type": "stream",
          "name": "stdout",
          "text": [
            "[[1, 1], [1, 1]]\n",
            "[[0, 0], [0, 0]]\n",
            "[[1, 0, 0, 0], [0, 1, 0, 0], [0, 0, 1, 0], [0, 0, 0, 1]]\n"
          ]
        }
      ]
    },
    {
      "cell_type": "markdown",
      "metadata": {
        "id": "Areli1q5Q-m6"
      },
      "source": [
        ""
      ]
    },
    {
      "cell_type": "code",
      "metadata": {
        "id": "NIJitd0WQrM9",
        "colab": {
          "base_uri": "https://localhost:8080/"
        },
        "outputId": "b501f215-1606-4280-e35f-0b1a899495be"
      },
      "source": [
        "# cartesian opetations\n",
        "\n",
        "!git status\n"
      ],
      "execution_count": 43,
      "outputs": [
        {
          "output_type": "stream",
          "name": "stdout",
          "text": [
            "On branch main\n",
            "Your branch is behind 'origin/main' by 1 commit, and can be fast-forwarded.\n",
            "  (use \"git pull\" to update your local branch)\n",
            "\n",
            "Changes not staged for commit:\n",
            "  (use \"git add <file>...\" to update what will be committed)\n",
            "  (use \"git checkout -- <file>...\" to discard changes in working directory)\n",
            "\n",
            "\t\u001b[31mmodified:   matrixops.py\u001b[m\n",
            "\n",
            "Untracked files:\n",
            "  (use \"git add <file>...\" to include in what will be committed)\n",
            "\n",
            "\t\u001b[31mMatrix Examples.ipynb\u001b[m\n",
            "\n",
            "no changes added to commit (use \"git add\" and/or \"git commit -a\")\n"
          ]
        }
      ]
    },
    {
      "cell_type": "code",
      "metadata": {
        "colab": {
          "base_uri": "https://localhost:8080/"
        },
        "id": "UiW3Ge6LRzMH",
        "outputId": "759225f2-a9e9-4905-b183-3426ad065687"
      },
      "source": [
        "!git push"
      ],
      "execution_count": 52,
      "outputs": [
        {
          "output_type": "stream",
          "name": "stdout",
          "text": [
            "fatal: could not read Username for 'https://github.com': No such device or address\n"
          ]
        }
      ]
    },
    {
      "cell_type": "code",
      "metadata": {
        "id": "5WKz3ImHR-n_"
      },
      "source": [
        "!git config --global user.email \"sampadaspetkar@gmail.com\""
      ],
      "execution_count": 45,
      "outputs": []
    },
    {
      "cell_type": "code",
      "metadata": {
        "id": "WQdnEvYNSNIS"
      },
      "source": [
        "!git config --global user.name \"Sampada Petkar\""
      ],
      "execution_count": 46,
      "outputs": []
    },
    {
      "cell_type": "code",
      "metadata": {
        "id": "TX1WWWhuSQ7g"
      },
      "source": [
        ""
      ],
      "execution_count": null,
      "outputs": []
    }
  ]
}